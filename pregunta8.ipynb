{
 "cells": [
  {
   "cell_type": "code",
   "execution_count": 1,
   "metadata": {},
   "outputs": [
    {
     "name": "stdout",
     "output_type": "stream",
     "text": [
      "Datos de Bitcoin guardados en la tabla 'bitcoin' de la base de datos 'base.db'\n"
     ]
    }
   ],
   "source": [
    "import requests\n",
    "import sqlite3\n",
    "from datetime import date\n",
    "\n",
    "def obtener_precio_bitcoin():\n",
    "    try:\n",
    "        response = requests.get(\"https://api.coindesk.com/v1/bpi/currentprice.json\")\n",
    "        response.raise_for_status()\n",
    "        return response.json()[\"bpi\"]\n",
    "    except requests.RequestException as e:\n",
    "        print(\"Error al obtener el precio de Bitcoin:\", e)\n",
    "        return None\n",
    "\n",
    "def obtener_tipo_cambio_sunat(fecha):\n",
    "    try:\n",
    "        url = f\"https://api.apis.net.pe/v1/tipo-cambio-sunat?fecha={fecha}\"\n",
    "        response = requests.get(url)\n",
    "        response.raise_for_status()\n",
    "        return response.json()['compra']\n",
    "    except requests.RequestException as e:\n",
    "        print(\"Error al obtener el tipo de cambio:\", e)\n",
    "        return None\n",
    "\n",
    "def guardar_precio_bitcoin_en_db():\n",
    "    precios_bitcoin = obtener_precio_bitcoin()\n",
    "    if precios_bitcoin is None:\n",
    "        return\n",
    "    \n",
    "    fecha_actual = date.today().strftime('%Y-%m-%d')\n",
    "    tipo_cambio_usd = obtener_tipo_cambio_sunat(fecha_actual)\n",
    "    if tipo_cambio_usd is None:\n",
    "        return\n",
    "    \n",
    "    precio_pen = precios_bitcoin['USD']['rate_float'] * tipo_cambio_usd\n",
    "    \n",
    "    conn = sqlite3.connect('base.db')\n",
    "    cursor = conn.cursor()\n",
    "    \n",
    "    cursor.execute('''CREATE TABLE IF NOT EXISTS bitcoin (\n",
    "                        FECHA TEXT PRIMARY KEY,\n",
    "                        PRECIO_USD REAL,\n",
    "                        PRECIO_GBP REAL,\n",
    "                        PRECIO_EUR REAL,\n",
    "                        PRECIO_PEN REAL\n",
    "                    )''')\n",
    "    \n",
    "    cursor.execute(\"INSERT INTO bitcoin (FECHA, PRECIO_USD, PRECIO_GBP, PRECIO_EUR, PRECIO_PEN) VALUES (?, ?, ?, ?, ?)\",\n",
    "                   (fecha_actual, precios_bitcoin['USD']['rate_float'], precios_bitcoin['GBP']['rate_float'], \n",
    "                    precios_bitcoin['EUR']['rate_float'], precio_pen))\n",
    "    \n",
    "    conn.commit()\n",
    "    conn.close()\n",
    "    \n",
    "    print(\"Datos de Bitcoin guardados en la tabla 'bitcoin' de la base de datos 'base.db'\")\n",
    "\n",
    "# Llamar a la función para guardar los datos\n",
    "guardar_precio_bitcoin_en_db()\n"
   ]
  },
  {
   "cell_type": "markdown",
   "metadata": {},
   "source": [
    "OBSERVANDO LA TABLA BITCOIN"
   ]
  },
  {
   "cell_type": "code",
   "execution_count": 2,
   "metadata": {},
   "outputs": [
    {
     "name": "stdout",
     "output_type": "stream",
     "text": [
      "('2024-02-14', 49558.9776, 39318.4574, 46254.5336, 192140.15615519998)\n"
     ]
    }
   ],
   "source": [
    "import sqlite3\n",
    "\n",
    "with sqlite3.connect('base.db') as conexion:\n",
    "    cursor = conexion.cursor()\n",
    "\n",
    "    # Recuperamos los registros de la tabla de usuarios\n",
    "    cursor.execute(\"SELECT * FROM bitcoin\")\n",
    "\n",
    "    # Recorremos todos los registros con fetchall\n",
    "    # y los volcamos en una lista de usuarios\n",
    "    usuarios = cursor.fetchall()\n",
    "    pass\n",
    "\n",
    "# Ahora podemos recorrer todos los usuarios\n",
    "for usuario in usuarios:\n",
    "    print(usuario)"
   ]
  },
  {
   "cell_type": "markdown",
   "metadata": {},
   "source": [
    "REALIZANDO LA CONSULTA"
   ]
  },
  {
   "cell_type": "code",
   "execution_count": 3,
   "metadata": {},
   "outputs": [
    {
     "name": "stdout",
     "output_type": "stream",
     "text": [
      "El precio de compra de 10 bitcoins en PEN es: 1921401.56 PEN\n",
      "El precio de compra de 10 bitcoins en EUR es: 462545.34 EUR\n"
     ]
    }
   ],
   "source": [
    "import sqlite3\n",
    "\n",
    "def calcular_precio_compra(bitcoins, moneda):\n",
    "\n",
    "    conn = sqlite3.connect('base.db')\n",
    "    cursor = conn.cursor()\n",
    "\n",
    "    # Consultar el precio actual del bitcoin en la moneda deseada\n",
    "    cursor.execute(f\"SELECT PRECIO_{moneda.upper()} FROM bitcoin ORDER BY FECHA DESC LIMIT 1\")\n",
    "    precio_bitcoin = cursor.fetchone()[0]  # Obtener el precio de bitcoin en la moneda deseada\n",
    "\n",
    "    # Calcular el precio de compra de los bitcoins en la moneda deseada\n",
    "    precio_compra = bitcoins * precio_bitcoin\n",
    "\n",
    "    # Cerrar la conexión\n",
    "    conn.close()\n",
    "\n",
    "    return precio_compra\n",
    "\n",
    "# Calcular el precio de compra de 10 bitcoins en PEN\n",
    "precio_compra_pen = calcular_precio_compra(10, 'PEN')\n",
    "print(f\"El precio de compra de 10 bitcoins en PEN es: {precio_compra_pen:.2f} PEN\")\n",
    "\n",
    "# Calcular el precio de compra de 10 bitcoins en EUR\n",
    "precio_compra_eur = calcular_precio_compra(10, 'EUR')\n",
    "print(f\"El precio de compra de 10 bitcoins en EUR es: {precio_compra_eur:.2f} EUR\")\n"
   ]
  }
 ],
 "metadata": {
  "kernelspec": {
   "display_name": "Python 3",
   "language": "python",
   "name": "python3"
  },
  "language_info": {
   "codemirror_mode": {
    "name": "ipython",
    "version": 3
   },
   "file_extension": ".py",
   "mimetype": "text/x-python",
   "name": "python",
   "nbconvert_exporter": "python",
   "pygments_lexer": "ipython3",
   "version": "3.10.11"
  }
 },
 "nbformat": 4,
 "nbformat_minor": 2
}
